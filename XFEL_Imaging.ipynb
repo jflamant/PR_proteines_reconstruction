{
 "cells": [
  {
   "cell_type": "code",
   "execution_count": 9,
   "metadata": {
    "collapsed": false
   },
   "outputs": [],
   "source": [
    "import numpy as np\n",
    "import scipy as sp\n",
    "import matplotlib.pyplot as plt\n",
    "import periodictable\n",
    "from Bio.PDB import *\n",
    "from periodictable import xsf\n",
    "from math import pi\n",
    "\n",
    "%matplotlib inline"
   ]
  },
  {
   "cell_type": "code",
   "execution_count": 10,
   "metadata": {
    "collapsed": false
   },
   "outputs": [],
   "source": [
    "# Some handy functions\n",
    "def rotMatrix(theta):\n",
    "    '''z-axis rotation matrix'''\n",
    "    \n",
    "    R = np.array([[np.cos(theta), np.sin(theta), 0],\n",
    "    [-np.sin(theta),np.cos(theta),0],\n",
    "    [0, 0, 1]])\n",
    "    \n",
    "    return R\n",
    "    \n",
    "def cartesian_to_spherical(vector):\n",
    "    \"\"\"Convert the Cartesian vector [x, y, z] to spherical coordinates [r, theta, phi].\n",
    "\n",
    "    The parameter r is the radial distance, theta is the polar angle, and phi is the azimuth.\n",
    "\n",
    "\n",
    "    @param vector:  The Cartesian vector [x, y, z].\n",
    "    @type vector:   numpy rank-1, 3D array\n",
    "    @return:        The spherical coordinate vector [r, theta, phi].\n",
    "    @rtype:         numpy rank-1, 3D array\n",
    "    \"\"\"\n",
    "\n",
    "    # The radial distance.\n",
    "    r = np.linalg.norm(vector)\n",
    "\n",
    "    # Unit vector.\n",
    "    unit = vector / r\n",
    "\n",
    "    # The polar angle.\n",
    "    theta = math.acos(unit[2])\n",
    "\n",
    "    # The azimuth.\n",
    "    phi = math.atan2(unit[1], unit[0])\n",
    "\n",
    "    # Return the spherical coordinate vector.\n",
    "    return array([r, theta, phi], float64)"
   ]
  },
  {
   "cell_type": "code",
   "execution_count": 39,
   "metadata": {
    "collapsed": true
   },
   "outputs": [],
   "source": [
    "# Pattern simulation functions\n",
    "def simulate_patterns(Npatterns, wavelength=.5, decim=1):\n",
    "    \n",
    "    parser = PDBParser(QUIET=True)\n",
    "\n",
    "    structure=parser.get_structure(\"\", \"pdb/pyrene.pdb\")\n",
    "\n",
    "    gatoms = structure.get_atoms()\n",
    "    atoms = []\n",
    "    for at in gatoms:\n",
    "        atoms.append(at)\n",
    "\n",
    "    # generate the list of random uniforms rotations\n",
    "    randomRot = 2*pi*np.random.rand(Npatterns)\n",
    "\n",
    "    continuous_patterns=[]\n",
    "    for j in range(Npatterns):\n",
    "        theta = randomRot[j]\n",
    "        \n",
    "        R = rotMatrix(theta)\n",
    "        #R = eye(3)\n",
    "        \n",
    "        I = projection_on_detector(atoms,wavelength,R, decim=decim)\n",
    "        continuous_patterns.append(I)\n",
    "        \n",
    "        #plot_diffraction_patterns(I,noisy_I)\n",
    "        #np.savetxt('/Users/Julien/Dropbox/MPhil_thesis/Codes/Patterns/data/'+str(j)+\"_2BUK_cont.txt\",I,fmt='%1.4e')\n",
    "       \n",
    "        print(\"Pattern number \" + str(j) + \" generated\")\n",
    "\n",
    "    return continuous_patterns\n",
    "\n",
    "def projection_on_detector(atoms,wavelength,R, decim=1):\n",
    "\n",
    "    \n",
    "    ''' Note in this part theta in spherical coords is equat to theta in scattering'''\n",
    "    \n",
    "    \n",
    "    qmax = 4*pi/wavelength # in Angstroms\n",
    "    D = 1e-2*1e10 # in Angstroms\n",
    "    #px = 3.38e-5*1e10 # in Angstroms\n",
    "    px= 1e-4*1e10\n",
    "    \n",
    "    re = 2.8179403267*1e-15 # in m\n",
    "    nphotons = 1e16\n",
    "    beamarea = 1e-14 # in m**2\n",
    "    \n",
    "    X,Y = np.mgrid[-31:32:decim,-31:32:decim]\n",
    "    X = px*X\n",
    "    Y = px*Y\n",
    "    \n",
    "    N = len(X)\n",
    "    \n",
    "    Rp = np.sqrt(X**2+Y**2)\n",
    "    theta = np.arctan(Rp/D)\n",
    "    phi = np.arctan2(Y,X)\n",
    "    \n",
    "    x0 = 0\n",
    "    y0 = 0\n",
    "    z0 = -2*pi/wavelength\n",
    "    r = 2*pi/wavelength\n",
    "    x = x0+ r* np.sin(theta) * np.cos(phi)\n",
    "    y = y0+ r* np.sin(theta) * np.sin(phi)\n",
    "    z = z0+ r* np.cos(theta)\n",
    "    #TF calculation\n",
    "\n",
    "    F = np.zeros((N,N),dtype=\"complex\")\n",
    "    \n",
    "    normq = np.sqrt(x**2 + y**2 + z**2)\n",
    "    \n",
    "    for at in atoms:\n",
    "        el = periodictable.elements.symbol(at.element)\n",
    "    \n",
    "        pos = at.get_coord()\n",
    "        \n",
    "        pos = R.dot(pos) #rotation of the sample\n",
    "        Xdata = xsf.Xray(el)\n",
    "                    \n",
    "        Qpos = x*pos[0] +y*pos[1]+z*pos[2]\n",
    "        \n",
    "        F += Xdata.f0(normq)*np.exp(1j*Qpos)\n",
    "                \n",
    "    I = abs(F)**2*re**2*nphotons/beamarea*(px/D)**2*np.cos(theta)\n",
    "\n",
    "    return I"
   ]
  },
  {
   "cell_type": "code",
   "execution_count": 42,
   "metadata": {
    "collapsed": false
   },
   "outputs": [
    {
     "name": "stdout",
     "output_type": "stream",
     "text": [
      "Pattern number 0 generated\n"
     ]
    },
    {
     "data": {
      "image/png": "[encoded data removed]",
      "text/plain": [
       "<matplotlib.figure.Figure at 0x1166ceef0>"
      ]
     },
     "metadata": {},
     "output_type": "display_data"
    },
    {
     "data": {
      "image/png": "[encoded data removed]",
      "text/plain": [
       "<matplotlib.figure.Figure at 0x116c95710>"
      ]
     },
     "metadata": {},
     "output_type": "display_data"
    }
   ],
   "source": [
    "##### simulation \n",
    "patterns = simulate_patterns(1, decim=1)\n",
    "for pat in patterns:\n",
    "    plt.figure()\n",
    "    plt.imshow(np.log(pat))\n",
    "    plt.figure()\n",
    "    plt.imshow(np.random.poisson(pat))"
   ]
  },
  {
   "cell_type": "code",
   "execution_count": 30,
   "metadata": {
    "collapsed": false
   },
   "outputs": [
    {
     "data": {
      "text/plain": [
       "570"
      ]
     },
     "execution_count": 30,
     "metadata": {},
     "output_type": "execute_result"
    }
   ],
   "source": [
    "s=1000\n",
    "np.random.poisson(s*pat).sum()"
   ]
  },
  {
   "cell_type": "code",
   "execution_count": 35,
   "metadata": {
    "collapsed": false
   },
   "outputs": [
    {
     "data": {
      "text/plain": [
       "[array([[  5.09379219e-06,   6.49066190e-06,   7.45550956e-06, ...,\n",
       "           1.78147975e-04,   2.30438580e-04,   2.75851366e-04],\n",
       "        [  2.14003242e-06,   3.45902174e-06,   4.72152698e-06, ...,\n",
       "           2.11456214e-04,   2.77062045e-04,   3.35689377e-04],\n",
       "        [  1.08806379e-06,   1.99545383e-06,   3.03276537e-06, ...,\n",
       "           2.19416787e-04,   2.93949710e-04,   3.62724338e-04],\n",
       "        ..., \n",
       "        [  8.75174834e-06,   6.20005035e-06,   1.05221887e-05, ...,\n",
       "           7.13282387e-07,   4.32816553e-07,   4.33733030e-07],\n",
       "        [  1.92877826e-05,   9.78267886e-06,   8.25315315e-06, ...,\n",
       "           4.75863261e-07,   2.74935677e-07,   2.82312415e-07],\n",
       "        [  3.14724006e-05,   1.58471357e-05,   8.98935349e-06, ...,\n",
       "           7.65302602e-07,   1.15555950e-06,   1.83274065e-06]]),\n",
       " array([[  2.02991110e-05,   1.46933750e-05,   1.04131105e-05, ...,\n",
       "           8.54047771e-06,   1.26572257e-05,   1.56904654e-05],\n",
       "        [  2.22145511e-05,   1.69602792e-05,   1.28595078e-05, ...,\n",
       "           1.23849952e-05,   1.44266363e-05,   1.43137635e-05],\n",
       "        [  2.00511700e-05,   1.62156917e-05,   1.32309152e-05, ...,\n",
       "           1.38780388e-05,   1.28779354e-05,   1.00181145e-05],\n",
       "        ..., \n",
       "        [  6.80358030e-05,   3.03410116e-05,   1.00036718e-05, ...,\n",
       "           3.31882658e-06,   1.76205629e-06,   4.09372830e-06],\n",
       "        [  4.36089888e-05,   1.71160571e-05,   5.87215424e-06, ...,\n",
       "           4.45183331e-06,   2.44471760e-06,   2.82545113e-06],\n",
       "        [  2.41079529e-05,   8.85034553e-06,   5.16992699e-06, ...,\n",
       "           5.91206982e-06,   3.90942295e-06,   3.09824930e-06]]),\n",
       " array([[  4.95499977e-05,   6.14003333e-05,   6.96384618e-05, ...,\n",
       "           1.64161535e-06,   4.19466586e-07,   2.15160900e-07],\n",
       "        [  3.61546145e-05,   4.72348271e-05,   5.59822964e-05, ...,\n",
       "           3.70007581e-07,   8.27766529e-07,   2.25917672e-06],\n",
       "        [  2.31205039e-05,   3.18509604e-05,   3.93377603e-05, ...,\n",
       "           4.25110182e-06,   6.25456085e-06,   8.88261730e-06],\n",
       "        ..., \n",
       "        [  1.33476323e-05,   1.37504139e-05,   1.42108681e-05, ...,\n",
       "           4.91812080e-05,   5.86880048e-05,   6.60011681e-05],\n",
       "        [  1.67184630e-05,   1.65389034e-05,   1.60257814e-05, ...,\n",
       "           2.36925700e-05,   3.36236419e-05,   4.29765018e-05],\n",
       "        [  1.63680839e-05,   1.47335724e-05,   1.27684692e-05, ...,\n",
       "           5.75702745e-06,   1.21575556e-05,   2.00692994e-05]]),\n",
       " array([[  8.88805252e-06,   9.39143387e-06,   9.75769332e-06, ...,\n",
       "           6.20703851e-05,   1.16523171e-04,   1.84697906e-04],\n",
       "        [  7.34005588e-06,   8.90241902e-06,   1.02817844e-05, ...,\n",
       "           8.34114979e-05,   1.43767276e-04,   2.13012165e-04],\n",
       "        [  5.57262601e-06,   8.04181239e-06,   1.04816665e-05, ...,\n",
       "           1.00847064e-04,   1.61458031e-04,   2.25172274e-04],\n",
       "        ..., \n",
       "        [  2.86579645e-05,   1.32877037e-05,   6.90848630e-06, ...,\n",
       "           6.02531387e-06,   8.01817088e-06,   1.10114643e-05],\n",
       "        [  8.46149562e-06,   5.34997073e-06,   6.80642569e-06, ...,\n",
       "           3.27158368e-06,   4.70389096e-06,   6.96296157e-06],\n",
       "        [  3.60540038e-06,   6.80826332e-06,   1.07178320e-05, ...,\n",
       "           1.07054104e-06,   1.72120348e-06,   2.88765062e-06]]),\n",
       " array([[  7.93605804e-05,   3.50563003e-05,   1.12315884e-05, ...,\n",
       "           9.25900635e-06,   9.71602271e-06,   9.04651557e-06],\n",
       "        [  1.03709916e-04,   4.77341462e-05,   1.59746492e-05, ...,\n",
       "           7.56663995e-06,   6.86836841e-06,   5.53605278e-06],\n",
       "        [  1.24389516e-04,   5.82450890e-05,   1.97222906e-05, ...,\n",
       "           5.89056498e-06,   4.80827836e-06,   3.92051195e-06],\n",
       "        ..., \n",
       "        [  6.81425496e-05,   5.35521732e-05,   3.58072852e-05, ...,\n",
       "           2.08335964e-05,   1.81325955e-05,   1.08600431e-05],\n",
       "        [  5.62940622e-05,   4.19431720e-05,   2.66141306e-05, ...,\n",
       "           1.82977416e-05,   1.66930689e-05,   1.06988397e-05],\n",
       "        [  4.26428524e-05,   2.97680646e-05,   1.76800847e-05, ...,\n",
       "           1.61863453e-05,   1.57154697e-05,   1.09449207e-05]]),\n",
       " array([[  9.33018350e-06,   9.48040476e-06,   9.51550029e-06, ...,\n",
       "           8.49352351e-05,   1.46759521e-04,   2.18402904e-04],\n",
       "        [  8.26072429e-06,   9.46460551e-06,   1.04121935e-05, ...,\n",
       "           1.06765276e-04,   1.71227480e-04,   2.39732011e-04],\n",
       "        [  6.77718132e-06,   9.00649184e-06,   1.09859441e-05, ...,\n",
       "           1.21683413e-04,   1.82682586e-04,   2.41748791e-04],\n",
       "        ..., \n",
       "        [  4.70176741e-05,   2.31831417e-05,   1.02784303e-05, ...,\n",
       "           4.79489439e-06,   6.38756871e-06,   8.86782410e-06],\n",
       "        [  1.65739442e-05,   7.80172967e-06,   5.83859959e-06, ...,\n",
       "           2.26008135e-06,   3.24457079e-06,   4.88906315e-06],\n",
       "        [  3.94402005e-06,   4.75494835e-06,   8.14949698e-06, ...,\n",
       "           5.86580780e-07,   9.14775222e-07,   1.57645846e-06]]),\n",
       " array([[  2.34616097e-04,   2.98447076e-04,   3.35669875e-04, ...,\n",
       "           1.54650017e-06,   3.66220803e-08,   1.37106635e-06],\n",
       "        [  1.91805252e-04,   2.41475234e-04,   2.66945968e-04, ...,\n",
       "           1.16959790e-06,   5.35431311e-08,   9.48893630e-07],\n",
       "        [  1.44482385e-04,   1.80013021e-04,   1.94918130e-04, ...,\n",
       "           1.12626997e-06,   2.92979619e-07,   7.03129551e-07],\n",
       "        ..., \n",
       "        [  6.02049280e-06,   3.57367185e-06,   2.38531384e-06, ...,\n",
       "           1.15330865e-05,   8.78390466e-06,   8.47997210e-06],\n",
       "        [  4.69697767e-06,   2.32150488e-06,   1.49555368e-06, ...,\n",
       "           7.03656268e-06,   9.63089480e-06,   1.39030755e-05],\n",
       "        [  3.17365818e-06,   1.19388045e-06,   8.15813256e-07, ...,\n",
       "           9.51809247e-06,   1.84887113e-05,   2.79838003e-05]]),\n",
       " array([[  3.55835494e-06,   7.63152391e-06,   1.19621831e-05, ...,\n",
       "           3.33882537e-05,   2.46867075e-05,   1.58414571e-05],\n",
       "        [  1.70035764e-06,   3.81429007e-06,   8.16999092e-06, ...,\n",
       "           1.38501668e-05,   1.00363712e-05,   6.37186189e-06],\n",
       "        [  1.88099858e-06,   1.22341892e-06,   4.22959557e-06, ...,\n",
       "           3.82841986e-06,   2.91286147e-06,   2.31854878e-06],\n",
       "        ..., \n",
       "        [  1.94585302e-05,   1.60296029e-05,   1.10148201e-05, ...,\n",
       "           9.34820107e-06,   1.20568315e-05,   1.30990435e-05],\n",
       "        [  2.43744853e-05,   1.87650120e-05,   1.17628646e-05, ...,\n",
       "           5.34637487e-06,   7.94351543e-06,   1.07128012e-05],\n",
       "        [  2.98749740e-05,   2.17592413e-05,   1.26542751e-05, ...,\n",
       "           6.58813671e-06,   5.38881247e-06,   7.25739370e-06]]),\n",
       " array([[  1.22763443e-05,   8.52319160e-06,   5.64917251e-06, ...,\n",
       "           3.90504383e-04,   4.37635647e-04,   4.60886602e-04],\n",
       "        [  1.12599948e-05,   9.09347511e-06,   6.97432404e-06, ...,\n",
       "           3.51603007e-04,   4.01357938e-04,   4.29133267e-04],\n",
       "        [  9.00634095e-06,   8.38884166e-06,   7.41958796e-06, ...,\n",
       "           2.77322033e-04,   3.24943493e-04,   3.54406426e-04],\n",
       "        ..., \n",
       "        [  6.53103219e-08,   1.17575296e-06,   6.12684171e-06, ...,\n",
       "           1.41531510e-06,   8.05203192e-07,   6.51646753e-07],\n",
       "        [  7.21042174e-06,   2.63296511e-06,   2.18205406e-06, ...,\n",
       "           1.62946485e-06,   6.93080476e-07,   3.28882810e-07],\n",
       "        [  2.67538890e-05,   1.47561530e-05,   7.10842367e-06, ...,\n",
       "           2.78118057e-06,   1.32412535e-06,   3.22158282e-07]]),\n",
       " array([[  5.83485078e-06,   1.09835509e-05,   1.72897026e-05, ...,\n",
       "           3.13538713e-05,   2.82094380e-05,   2.50829681e-05],\n",
       "        [  1.41428419e-06,   6.92308938e-08,   1.02356802e-06, ...,\n",
       "           2.91692947e-05,   2.65551645e-05,   2.43715122e-05],\n",
       "        [  1.31660440e-05,   7.25245451e-06,   3.83861985e-06, ...,\n",
       "           2.71052651e-05,   2.57952212e-05,   2.48954143e-05],\n",
       "        ..., \n",
       "        [  2.78222889e-05,   3.08443856e-05,   3.26017053e-05, ...,\n",
       "           2.56114458e-04,   2.67170662e-04,   2.64767387e-04],\n",
       "        [  2.99851797e-05,   3.05623138e-05,   2.97681600e-05, ...,\n",
       "           3.54903301e-04,   3.69491156e-04,   3.66418222e-04],\n",
       "        [  3.03026764e-05,   2.82024634e-05,   2.51524935e-05, ...,\n",
       "           4.24230065e-04,   4.40950238e-04,   4.37218948e-04]])]"
      ]
     },
     "execution_count": 35,
     "metadata": {},
     "output_type": "execute_result"
    }
   ],
   "source": [
    "patterns"
   ]
  },
  {
   "cell_type": "code",
   "execution_count": null,
   "metadata": {
    "collapsed": true
   },
   "outputs": [],
   "source": []
  }
 ],
 "metadata": {
  "kernelspec": {
   "display_name": "Python 3",
   "language": "python",
   "name": "python3"
  },
  "language_info": {
   "codemirror_mode": {
    "name": "ipython",
    "version": 3
   },
   "file_extension": ".py",
   "mimetype": "text/x-python",
   "name": "python",
   "nbconvert_exporter": "python",
   "pygments_lexer": "ipython3",
   "version": "3.5.2"
  }
 },
 "nbformat": 4,
 "nbformat_minor": 0
}
